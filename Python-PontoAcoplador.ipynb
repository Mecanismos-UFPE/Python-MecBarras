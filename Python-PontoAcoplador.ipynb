{
  "nbformat": 4,
  "nbformat_minor": 0,
  "metadata": {
    "kernelspec": {
      "display_name": "Python 3",
      "language": "python",
      "name": "python3"
    },
    "language_info": {
      "codemirror_mode": {
        "name": "ipython",
        "version": 3
      },
      "file_extension": ".py",
      "mimetype": "text/x-python",
      "name": "python",
      "nbconvert_exporter": "python",
      "pygments_lexer": "ipython3",
      "version": "3.8.5"
    },
    "colab": {
      "name": "Python-PontoAcoplador.ipynb",
      "provenance": []
    }
  },
  "cells": [
    {
      "cell_type": "markdown",
      "metadata": {
        "id": "rW92gNKjUdGF"
      },
      "source": [
        "## Template para o cálculo dos deslocamentos, velocidades e acelerações para pontos do acoplador\n",
        "---\n",
        "### A função $P()$ retorna uma matriz coluna com os deslocamentos $x$<sub>p</sub>. e $y$<sub>p</sub>.\n",
        "### A função $\\dot P()$ retorna uma matriz coluna com as velocidades $\\dot x$<sub>p</sub>. e $\\dot y$<sub>p</sub>.\n",
        "### A função $\\ddot P()$ retorna uma matriz coluna com as acelerações $\\ddot x$<sub>p</sub>. e $\\ddot y$<sub>p</sub>.\n",
        "- Estas três funções não recebem argumentos e podem ser usadas no meio de expressões, porém requerem o uso do parêntesis, *vazios*.\n",
        "       \n",
        "A célula a seguir só deve ser rodada uma única vez, no início e, **em hipótese alguma** deve ser modificada"
      ]
    },
    {
      "cell_type": "code",
      "metadata": {
        "id": "ALXkggaPUdGI"
      },
      "source": [
       "from sympy import *\n",
       "from sympy import diff as D\n",
       "\n",
       "t = symbols ('t')\n",
       "\n",
       "def SetupGlobalVars():\n",
       "    global M,U,Xₒ,Ẋₒ,Ẍₒ,u,v,sᵢ,xₒ,yₒ\n",
       "    M  = Matrix([[cos(sᵢ), -sin(sᵢ)],[sin(sᵢ), cos(sᵢ)]])\n",
       "    U  = Matrix([u,v])\n",
       "    Xₒ = Matrix([xₒ,yₒ])\n",
       "    Ẋₒ = Matrix([D(xₒ,t),D(yₒ,t)])\n",
       "    Ẍₒ = Matrix([D(xₒ,t,2),D(yₒ,t,2)])\n",
       "\n",
       "def P():\n",
       "    return Xₒ + M*U\n",
       "\n",
       "def Ṗ():\n",
       "    Ω = Matrix([[0, -1],[1,0]])\n",
       "    return Ẋₒ + D(sᵢ,t)*M*Ω*U\n",
       "\n",
       "def P̈():\n",
       "    Γ = Matrix([[D(sᵢ,t)**2, D(sᵢ,t,2)],[-D(sᵢ,t,2), D(sᵢ,t)**2]])\n",
       "    return Ẍₒ - M*Γ*U"
      ],
      "execution_count": 3,
      "outputs": []
    },
    {
      "cell_type": "markdown",
      "metadata": {
        "id": "kbrcj4rEUdGU"
      },
      "source": [
        "### Utilização do template:\n",
        "   * Primeiramente devem ser definidas as variáveis simbólicas a serem utilizadas, tais como constantes representativas dos comprimentos das barras, coordenadas generalizadas e as variávesl representativas das velociades;\n",
        "   \n",
        "#### Exemplo de Uso\n",
        "O ponto do acoplador sobre a biela do mecanismo biela manivela, da figura abaixo, vai servir como exemplo na criação das variáveis e uso da função acima.\n",
        "\n",
        "![Ponto acoplador no Bieal Manivela](https://dc696.4shared.com/img/KidVzsorea/172c5017aa0/PtAcoplador.png)\n",
        "\n",
        "Vejamos então como fica a codificação na célula abaixo."
      ]
    },
    {
      "cell_type": "code",
      "metadata": {
        "id": "AYbTKKypUdGZ",
        "outputId": "310e84e5-357d-4c8d-ea9c-09df860eb2ea",
        "colab": {
          "base_uri": "https://localhost:8080/",
          "height": 145
        }
      },
      "source": [
       "a,b = symbols('a b')\n",
       "φ,x = Function ('varphi')(t), Function('x')(t)\n",
       "φₜ,xₜ = symbols('\\\\dot{\\\\varphi} \\\\dot{x}')\n",
       "φₜₜ,xₜₜ = symbols('\\\\ddot{\\\\varphi} \\\\ddot{x}')\n",
       "\n",
       "u  = b/2\n",
       "v  = -a\n",
       "sᵢ = pi-φ\n",
       "xₒ = x\n",
       "yₒ = 0\n",
       "\n",
       "SetupGlobalVars()\n",
       "display(P())\n",
       "display(Ṗ().subs([(D(φ,t),φₜ),(D(x,t),xₜ)]))\n",
       "display(P̈().subs([(D(x,t,2),xₜₜ),(D(φ,t,2),φₜₜ),(D(φ,t),φₜ),(D(φ,t,2),φₜₜ)]))"
      ],
      "execution_count": 4,
      "outputs": [
        {
          "output_type": "display_data",
          "data": {
            "text/latex": "$$\\left[\\begin{matrix}a \\sin{\\left (\\varphi \\right )} - \\frac{b}{2} \\cos{\\left (\\varphi \\right )} + x\\\\a \\cos{\\left (\\varphi \\right )} + \\frac{b}{2} \\sin{\\left (\\varphi \\right )}\\end{matrix}\\right]$$",
            "text/plain": [
              "⎡                b⋅cos(varphi)    ⎤\n",
              "⎢a⋅sin(varphi) - ───────────── + x⎥\n",
              "⎢                      2          ⎥\n",
              "⎢                                 ⎥\n",
              "⎢                  b⋅sin(varphi)  ⎥\n",
              "⎢  a⋅cos(varphi) + ─────────────  ⎥\n",
              "⎣                        2        ⎦"
            ]
          },
          "metadata": {
            "tags": []
          }
        },
        {
          "output_type": "display_data",
          "data": {
            "text/latex": "$$\\left[\\begin{matrix}- \\dot{\\varphi} a \\cos{\\left (\\varphi \\right )} - \\frac{\\dot{\\varphi} b}{2} \\sin{\\left (\\varphi \\right )} + \\dot{x}\\\\\\dot{\\varphi} a \\sin{\\left (\\varphi \\right )} - \\frac{\\dot{\\varphi} b}{2} \\cos{\\left (\\varphi \\right )}\\end{matrix}\\right]$$",
            "text/plain": [
              "⎡                               \\dot{\\varphi}⋅b⋅sin(varphi)          ⎤\n",
              "⎢-\\dot{\\varphi}⋅a⋅cos(varphi) - ─────────────────────────── + \\dot{x}⎥\n",
              "⎢                                            2                       ⎥\n",
              "⎢                                                                    ⎥\n",
              "⎢                                   \\dot{\\varphi}⋅b⋅cos(varphi)      ⎥\n",
              "⎢     \\dot{\\varphi}⋅a⋅sin(varphi) - ───────────────────────────      ⎥\n",
              "⎣                                                2                   ⎦"
            ]
          },
          "metadata": {
            "tags": []
          }
        },
        {
          "output_type": "display_data",
          "data": {
            "text/latex": "$$\\left[\\begin{matrix}\\ddot{x} + a \\left(\\ddot{\\varphi} \\cos{\\left (\\varphi \\right )} - \\dot{\\varphi}^{2} \\sin{\\left (\\varphi \\right )}\\right) - \\frac{b}{2} \\left(- \\ddot{\\varphi} \\sin{\\left (\\varphi \\right )} - \\dot{\\varphi}^{2} \\cos{\\left (\\varphi \\right )}\\right)\\\\a \\left(- \\ddot{\\varphi} \\sin{\\left (\\varphi \\right )} - \\dot{\\varphi}^{2} \\cos{\\left (\\varphi \\right )}\\right) - \\frac{b}{2} \\left(- \\ddot{\\varphi} \\cos{\\left (\\varphi \\right )} + \\dot{\\varphi}^{2} \\sin{\\left (\\varphi \\right )}\\right)\\end{matrix}\\right]$$",
            "text/plain": [
              "⎡                                                                           ⎛ \n",
              "⎢             ⎛                                          2            ⎞   b⋅⎝-\n",
              "⎢\\ddot{x} + a⋅⎝\\ddot{\\varphi}⋅cos(varphi) - \\dot{\\varphi} ⋅sin(varphi)⎠ - ────\n",
              "⎢                                                                             \n",
              "⎢                                                                             \n",
              "⎢                                                                      ⎛      \n",
              "⎢       ⎛                                           2            ⎞   b⋅⎝-\\ddot\n",
              "⎢     a⋅⎝-\\ddot{\\varphi}⋅sin(varphi) - \\dot{\\varphi} ⋅cos(varphi)⎠ - ─────────\n",
              "⎣                                                                             \n",
              "\n",
              "                                          2            ⎞⎤\n",
              "\\ddot{\\varphi}⋅sin(varphi) - \\dot{\\varphi} ⋅cos(varphi)⎠⎥\n",
              "────────────────────────────────────────────────────────⎥\n",
              "                         2                              ⎥\n",
              "                                                        ⎥\n",
              "                                     2            ⎞     ⎥\n",
              "{\\varphi}⋅cos(varphi) + \\dot{\\varphi} ⋅sin(varphi)⎠     ⎥\n",
              "───────────────────────────────────────────────────     ⎥\n",
              "                    2                                   ⎦"
            ]
          },
          "metadata": {
            "tags": []
          }
        }
      ]
    },
    {
      "cell_type": "code",
      "metadata": {
        "id": "fYKsl3HVU4Yh"
      },
      "source": [
        ""
      ],
      "execution_count": null,
      "outputs": []
    }
  ]
}
