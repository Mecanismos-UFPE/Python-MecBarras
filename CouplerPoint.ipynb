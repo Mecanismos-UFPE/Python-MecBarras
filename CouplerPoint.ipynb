{
  "metadata": {
    "kernelspec": {
      "name": "python",
      "display_name": "Python (Pyodide)",
      "language": "python"
    },
    "language_info": {
      "codemirror_mode": {
        "name": "python",
        "version": 3
      },
      "file_extension": ".py",
      "mimetype": "text/x-python",
      "name": "python",
      "nbconvert_exporter": "python",
      "pygments_lexer": "ipython3",
      "version": "3.8"
    }
  },
  "nbformat_minor": 5,
  "nbformat": 4,
  "cells": [
    {
      "cell_type": "code",
      "source": "#####################################################\n##    Pontos  do  acoplador em cadeias  impostas   ##\n##    Código desenvolvido por José Maria Bezerra   ##\n##    Uso exclusivo alunos Mecanismos UFPE/DEMEC   ##\n#####################################################\n\n#!/usr/bin/env python\n# coding: utf-8\n\nfrom sympy import *\nfrom sympy import diff as D\nfrom IPython.display import display, Markdown, Latex\n\n#a,b,c,d,e,t = symbols('a b c d e t')\na,b,c,d,e,f,g,h,x,y,x,z,u,w,k,t,r,l,ℓ = symbols('a b c d e f g h x y x z u w k t r \\\\ell \\\\ell')\nα,β,γ,δ = Function ('alpha')(t), Function ('beta')(t),Function ('gamma')(t),Function ('delta')(t)\nθ,φ,x,y,z = Function ('theta')(t), Function ('varphi')(t),Function ('x')(t),Function ('y')(t),Function ('z')(t)\nαt,βt,γt,δt,θt,φt = symbols('\\\\dot{\\\\alpha} \\\\dot{\\\\beta} \\\\dot{\\\\gamma} \\\\dot{\\\\delta} \\\\dot{\\\\theta} \\\\dot{\\\\varphi}')\nxt,yt,zt = symbols('\\\\dot{x} \\\\dot{y} \\\\dot{z}')\nαtt,βtt,γtt = symbols('\\\\ddot{\\\\alpha} \\\\ddot{\\\\beta} \\\\ddot{\\\\gamma}')\nδtt,θtt,φtt = symbols('\\\\ddot{\\\\delta} \\\\ddot{\\\\theta} \\\\ddot{\\\\varphi}')\nxtt,ytt,ztt = symbols('\\\\ddot{x} \\\\ddot{y} \\\\ddot{z}')\nVc = {α:αt,β:βt,γ:γt,δ:δt,θ:θt,φ:φt,x:xt,y:yt,z:zt}\nAc = {α:αtt,β:βtt,γ:γtt,δ:δtt,θ:θtt,φ:φtt,x:xtt,y:ytt,z:ztt}\n\nclass CouplerPoint:\n    \"\"\" Definition class for Coupler Points. \"\"\"\n    def __init__(self):\n        self.u  = None\n        self.v  = None\n        self.sᵢ = None\n        self.xₒ = None\n        self.yₒ = None\n\n    def CouplerSolve(self):\n        M  = Matrix([[cos(self.sᵢ), -sin(self.sᵢ)],[sin(self.sᵢ), cos(self.sᵢ)]])\n        U  = Matrix([self.u,self.v])\n        Xₒ = Matrix([self.xₒ,self.yₒ])\n        Ẋₒ = Matrix([D(self.xₒ,t),D(self.yₒ,t)])\n        Ẍₒ = Matrix([D(self.xₒ,t,2),D(self.yₒ,t,2)])\n        \n        P = Xₒ + M*U\n        Ω = Matrix([[0, -1],[1,0]])\n        Ṗ = Ẋₒ + D(self.sᵢ,t)*M*Ω*U\n        Γ = Matrix([[D(self.sᵢ,t)**2, D(self.sᵢ,t,2)],[-D(self.sᵢ,t,2), D(self.sᵢ,t)**2]])\n        P̈ = simplify(Ẍₒ) - simplify(M*Γ*U)\n\n        Pt = Ṗ; Ptt = P̈\n        for i in Ac:\n            Ptt = Ptt.subs( D(i,t,2),Ac[i] )\n            Ptt = Ptt.subs( D(i,t),Vc[i] )\n        for i in Vc:\n            Pt = Pt.subs( D(i,t),Vc[i] )\n\n        desloc = [latex(i) for i in P]\n        veloc  = [latex(i) for i in Pt]\n        acel   = [latex(i) for i in Ptt]\n        d0 = desloc[0]; d1 = desloc[1]\n        v0 = veloc[0]; v1 = veloc[1]\n        a0 = acel[0]; a1 = acel[1]\n        d0 = d0.replace(\" \", \"\"); d1 = d1.replace(\" \", \"\")\n        v0 = v0.replace(\" \", \"\"); v1 = v1.replace(\" \", \"\")\n        a0 = a0.replace(\" \", \"\"); a1 = a1.replace(\" \", \"\")\n        A = B = C = E = G = H = 1\n        while (A > 0 or B > 0 or C > 0 or E > 0 or G > 0 or H > 0):\n            A = d0.find('{\\\\left(t'); B = d1.find('{\\\\left(t')\n            C = v0.find('{\\\\left(t'); E = v1.find('{\\\\left(t')\n            G = a0.find('{\\\\left(t'); H = a1.find('{\\\\left(t')\n            if A > 0:\n                d0 = d0[:A]+d0[(A+16):]\n            if B > 0:\n                d1 = d1[:B]+d1[(B+16):]\n            if C > 0:\n                v0 = v0[:C]+v0[(C+16):]\n            if E > 0:\n                v1 = v1[:E]+v1[(E+16):]\n            if G > 0:\n                a0 = a0[:G]+a0[(G+16):]\n            if H > 0:\n                a1 = a1[:H]+a1[(H+16):]\n\n        display(Markdown(\"### Deslocamentos\"))\n        display(Markdown(\"$ \\qquad x_p $ = $ %s $\" %d0))\n        display(Markdown(\"$ \\qquad y_p $ = $ %s $\" %d1))\n        display(Markdown(\"### Velocidades\"))\n        display(Markdown(\"$ \\qquad \\dot x_p $ = $ %s $\" %v0))\n        display(Markdown(\"$ \\qquad \\dot y_p $ = $ %s $\" %v1))\n        display(Markdown(\"### Acelerações\"))\n        display(Markdown(\"$ \\qquad \\ddot x_p $ = $ %s $\" %a0))\n        display(Markdown(\"$ \\qquad \\ddot y_p $ = $ %s $\" %a1))\n\nP = CouplerPoint()",
      "metadata": {
        "trusted": true
      },
      "execution_count": 1,
      "outputs": [],
      "id": "8f1a4bdf-d90b-457b-97b2-fbb325fed013"
    }
  ]
}