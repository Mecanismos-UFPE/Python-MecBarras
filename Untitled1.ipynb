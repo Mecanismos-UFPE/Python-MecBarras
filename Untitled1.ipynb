{
 "cells": [
  {
   "cell_type": "code",
   "execution_count": 2,
   "id": "2752d65b-7f86-4258-b379-bcad48caf649",
   "metadata": {},
   "outputs": [
    {
     "data": {
      "text/markdown": [
       "### Matrizes F e J"
      ],
      "text/plain": [
       "<IPython.core.display.Markdown object>"
      ]
     },
     "metadata": {},
     "output_type": "display_data"
    },
    {
     "data": {
      "text/markdown": [
       "$ F = \\begin{Bmatrix}- a \\sin{\\left(\\theta \\right)}\\\\ a \\cos{\\left(\\theta \\right)}\\end{Bmatrix}\\qquad J = \\begin{bmatrix}- b \\sin{\\left(\\varphi \\right)} & -1\\\\ - b \\cos{\\left(\\varphi \\right)} & 0\\\\ \\end{bmatrix} $"
      ],
      "text/plain": [
       "<IPython.core.display.Markdown object>"
      ]
     },
     "metadata": {},
     "output_type": "display_data"
    },
    {
     "data": {
      "text/markdown": [
       "### Coeficientes de Velocidade"
      ],
      "text/plain": [
       "<IPython.core.display.Markdown object>"
      ]
     },
     "metadata": {},
     "output_type": "display_data"
    },
    {
     "data": {
      "text/markdown": [
       "$ k_{\\varphi} = \\frac{a \\cos{\\left(\\theta \\right)}}{b \\cos{\\left(\\varphi \\right)}} \\qquad k_{x} = - \\frac{a \\sin{\\left(\\theta + \\varphi \\right)}}{\\cos{\\left(\\varphi \\right)}} \\qquad  $"
      ],
      "text/plain": [
       "<IPython.core.display.Markdown object>"
      ]
     },
     "metadata": {},
     "output_type": "display_data"
    },
    {
     "data": {
      "text/markdown": [
       "### Coeficientes da Aceleração"
      ],
      "text/plain": [
       "<IPython.core.display.Markdown object>"
      ]
     },
     "metadata": {},
     "output_type": "display_data"
    },
    {
     "data": {
      "text/markdown": [
       "$ \\ell_{\\varphi} = \\frac{a \\left(k_{\\varphi} \\cos{\\left(\\theta \\right)} \\tan{\\left(\\varphi \\right)} - \\sin{\\left(\\theta \\right)}\\right)}{b \\cos{\\left(\\varphi \\right)}} \\qquad \\ell_{x} = - \\frac{a \\left(k_{\\varphi} \\cos{\\left(\\theta \\right)} + \\cos{\\left(\\varphi \\right)} \\cos{\\left(\\theta + \\varphi \\right)}\\right)}{\\cos^{2}{\\left(\\varphi \\right)}} \\qquad  $"
      ],
      "text/plain": [
       "<IPython.core.display.Markdown object>"
      ]
     },
     "metadata": {},
     "output_type": "display_data"
    }
   ],
   "source": [
    "from LinkageMechanism import *\n",
    "\n",
    "f1 = a*cos(θ) + b*cos(φ) - x\n",
    "f2 = a*sin(θ) - b*sin(φ)\n",
    "\n",
    "MecSolve([θ,φ,x],[f1,f2])"
   ]
  }
 ],
 "metadata": {
  "kernelspec": {
   "display_name": "Python 3 (ipykernel)",
   "language": "python",
   "name": "python3"
  },
  "language_info": {
   "codemirror_mode": {
    "name": "ipython",
    "version": 3
   },
   "file_extension": ".py",
   "mimetype": "text/x-python",
   "name": "python",
   "nbconvert_exporter": "python",
   "pygments_lexer": "ipython3",
   "version": "3.9.7"
  }
 },
 "nbformat": 4,
 "nbformat_minor": 5
}
