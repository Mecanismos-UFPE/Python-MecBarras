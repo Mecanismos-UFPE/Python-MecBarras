{
 "cells": [
  {
   "cell_type": "code",
   "execution_count": 1,
   "id": "d2a78c9b-f8fb-44ac-8237-ca82181d801d",
   "metadata": {},
   "outputs": [
    {
     "data": {
      "text/markdown": [
       "### Deslocamentos"
      ],
      "text/plain": [
       "<IPython.core.display.Markdown object>"
      ]
     },
     "metadata": {},
     "output_type": "display_data"
    },
    {
     "data": {
      "text/markdown": [
       "$ \\qquad x_p $ = $ a\\cos{\\left(\\theta\\right)}+a\\cos{\\left(\\varphi\\right)} $"
      ],
      "text/plain": [
       "<IPython.core.display.Markdown object>"
      ]
     },
     "metadata": {},
     "output_type": "display_data"
    },
    {
     "data": {
      "text/markdown": [
       "$ \\qquad y_p $ = $ a\\sin{\\left(\\theta\\right)}+a\\sin{\\left(\\varphi\\right)} $"
      ],
      "text/plain": [
       "<IPython.core.display.Markdown object>"
      ]
     },
     "metadata": {},
     "output_type": "display_data"
    },
    {
     "data": {
      "text/markdown": [
       "### Velocidades"
      ],
      "text/plain": [
       "<IPython.core.display.Markdown object>"
      ]
     },
     "metadata": {},
     "output_type": "display_data"
    },
    {
     "data": {
      "text/markdown": [
       "$ \\qquad \\dot x_p $ = $ -\\dot{\\theta}a\\sin{\\left(\\theta\\right)}-\\dot{\\varphi}a\\sin{\\left(\\varphi\\right)} $"
      ],
      "text/plain": [
       "<IPython.core.display.Markdown object>"
      ]
     },
     "metadata": {},
     "output_type": "display_data"
    },
    {
     "data": {
      "text/markdown": [
       "$ \\qquad \\dot y_p $ = $ \\dot{\\theta}a\\cos{\\left(\\theta\\right)}+\\dot{\\varphi}a\\cos{\\left(\\varphi\\right)} $"
      ],
      "text/plain": [
       "<IPython.core.display.Markdown object>"
      ]
     },
     "metadata": {},
     "output_type": "display_data"
    },
    {
     "data": {
      "text/markdown": [
       "### Acelerações"
      ],
      "text/plain": [
       "<IPython.core.display.Markdown object>"
      ]
     },
     "metadata": {},
     "output_type": "display_data"
    },
    {
     "data": {
      "text/markdown": [
       "$ \\qquad \\ddot x_p $ = $ -a\\left(\\ddot{\\theta}\\sin{\\left(\\theta\\right)}+\\dot{\\theta}^{2}\\cos{\\left(\\theta\\right)}\\right)-a\\left(\\ddot{\\varphi}\\sin{\\left(\\varphi\\right)}+\\dot{\\varphi}^{2}\\cos{\\left(\\varphi\\right)}\\right) $"
      ],
      "text/plain": [
       "<IPython.core.display.Markdown object>"
      ]
     },
     "metadata": {},
     "output_type": "display_data"
    },
    {
     "data": {
      "text/markdown": [
       "$ \\qquad \\ddot y_p $ = $ a\\left(\\ddot{\\theta}\\cos{\\left(\\theta\\right)}-\\dot{\\theta}^{2}\\sin{\\left(\\theta\\right)}\\right)-a\\left(-\\ddot{\\varphi}\\cos{\\left(\\varphi\\right)}+\\dot{\\varphi}^{2}\\sin{\\left(\\varphi\\right)}\\right) $"
      ],
      "text/plain": [
       "<IPython.core.display.Markdown object>"
      ]
     },
     "metadata": {},
     "output_type": "display_data"
    }
   ],
   "source": [
    "from CouplerPoint import *\n",
    "\n",
    "P.u = a\n",
    "P.v = 0\n",
    "P.sᵢ = φ\n",
    "P.xₒ = a*cos(θ)\n",
    "P.yₒ = a*sin(θ)\n",
    "\n",
    "P.CouplerSolve()"
   ]
  }
 ],
 "metadata": {
  "kernelspec": {
   "display_name": "Python 3 (ipykernel)",
   "language": "python",
   "name": "python3"
  },
  "language_info": {
   "codemirror_mode": {
    "name": "ipython",
    "version": 3
   },
   "file_extension": ".py",
   "mimetype": "text/x-python",
   "name": "python",
   "nbconvert_exporter": "python",
   "pygments_lexer": "ipython3",
   "version": "3.9.7"
  }
 },
 "nbformat": 4,
 "nbformat_minor": 5
}
